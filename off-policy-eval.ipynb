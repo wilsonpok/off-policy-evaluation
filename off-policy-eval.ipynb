{
 "cells": [
  {
   "cell_type": "code",
   "execution_count": 1,
   "metadata": {},
   "outputs": [],
   "source": [
    "%matplotlib inline\n",
    "import pandas as pd\n",
    "import numpy as np\n",
    "import matplotlib.pyplot as plt\n",
    "from scipy.stats import beta\n",
    "from sklearn.linear_model import LogisticRegression"
   ]
  },
  {
   "cell_type": "markdown",
   "metadata": {},
   "source": [
    "## Functions"
   ]
  },
  {
   "cell_type": "code",
   "execution_count": 2,
   "metadata": {},
   "outputs": [],
   "source": [
    "def get_beta_dist(arm):\n",
    "    tot = counts['reward']['count'].loc[counts.index == arm]\n",
    "    conv = counts['reward']['sum'].loc[counts.index == arm]\n",
    "    return(pd.DataFrame({'action' : arm, \n",
    "                         'x' : xrange, \n",
    "                         'y' : beta.pdf(xrange, 1 + conv, 1 + tot - conv)}))\n",
    "\n",
    "\n",
    "def plot_beta_dist_by_action(arm):\n",
    "    df = beta_dist_by_action.loc[beta_dist_by_action.action == arm]\n",
    "    plt.plot(df['x'], df['y'])\n",
    "    \n",
    "\n",
    "def train_model_by_action(arm):\n",
    "    df = data.loc[data.action == arm]\n",
    "    X = df[xnames]\n",
    "    y = df['reward']\n",
    "    return(LogisticRegression().fit(X, y))\n",
    "\n",
    "\n",
    "def pred_reward_actual_action(arm):\n",
    "    df = data.loc[data.action == arm]\n",
    "    return(pd.DataFrame({'id' : df.index, 'action' : arm, 'pred_reward_for_actual_action' : pd.Series(models_list[arm - 1].predict_proba(df[xnames])[:,1])}).set_index('id'))\n",
    "\n",
    "\n",
    "def get_policy_beta(pol, num_conv):\n",
    "    return(pd.DataFrame({'policy' : pol, 'x' : xrange, 'y' : beta.pdf(xrange, 1 + num_conv, 1 + len(data) - num_conv)}))\n",
    "\n",
    "\n",
    "def plot_beta_dist_by_policy(pol):\n",
    "    df = all_betas.loc[all_betas.policy == pol]\n",
    "    plt.plot(df['x'], df['y'])\n",
    "    \n",
    "    \n",
    "def get_pred_reward_for_proposed_action(arm):\n",
    "    dm_rewards.loc[dm_rewards.proposed_action == arm, 'pred_reward_for_proposed_action'] = dm_rewards['r' + str(arm)]    \n",
    "    \n",
    "    \n",
    "def get_propensities(arm):\n",
    "    ips_rewards.loc[ips_rewards.proposed_action == arm, 'propensity'] = propensities[arm]    "
   ]
  },
  {
   "cell_type": "markdown",
   "metadata": {},
   "source": [
    "## Load data"
   ]
  },
  {
   "cell_type": "code",
   "execution_count": 3,
   "metadata": {},
   "outputs": [
    {
     "data": {
      "text/plain": [
       "RangeIndex(start=0, stop=10000, step=1, name='id')"
      ]
     },
     "execution_count": 3,
     "metadata": {},
     "output_type": "execute_result"
    }
   ],
   "source": [
    "url = 'http://d1ie9wlkzugsxr.cloudfront.net/data_cmab_basic/dataset.txt'\n",
    "\n",
    "xnames = ['x' + str(i) for i in list(np.arange(1, 101))]\n",
    "names = ['action', 'reward'] + xnames + ['empty_col']\n",
    "\n",
    "data = pd.read_csv(url, sep= ' ', header=None, names=names).drop('empty_col', axis=1)\n",
    "data.shape\n",
    "data.index.rename('id')"
   ]
  },
  {
   "cell_type": "code",
   "execution_count": 4,
   "metadata": {},
   "outputs": [
    {
     "data": {
      "text/html": [
       "<div>\n",
       "<style scoped>\n",
       "    .dataframe tbody tr th:only-of-type {\n",
       "        vertical-align: middle;\n",
       "    }\n",
       "\n",
       "    .dataframe tbody tr th {\n",
       "        vertical-align: top;\n",
       "    }\n",
       "\n",
       "    .dataframe thead th {\n",
       "        text-align: right;\n",
       "    }\n",
       "</style>\n",
       "<table border=\"1\" class=\"dataframe\">\n",
       "  <thead>\n",
       "    <tr style=\"text-align: right;\">\n",
       "      <th></th>\n",
       "      <th>action</th>\n",
       "      <th>reward</th>\n",
       "      <th>x1</th>\n",
       "      <th>x2</th>\n",
       "      <th>x3</th>\n",
       "      <th>x4</th>\n",
       "      <th>x5</th>\n",
       "      <th>x6</th>\n",
       "      <th>x7</th>\n",
       "      <th>x8</th>\n",
       "      <th>...</th>\n",
       "      <th>x91</th>\n",
       "      <th>x92</th>\n",
       "      <th>x93</th>\n",
       "      <th>x94</th>\n",
       "      <th>x95</th>\n",
       "      <th>x96</th>\n",
       "      <th>x97</th>\n",
       "      <th>x98</th>\n",
       "      <th>x99</th>\n",
       "      <th>x100</th>\n",
       "    </tr>\n",
       "  </thead>\n",
       "  <tbody>\n",
       "    <tr>\n",
       "      <th>0</th>\n",
       "      <td>2</td>\n",
       "      <td>0</td>\n",
       "      <td>5</td>\n",
       "      <td>0</td>\n",
       "      <td>0</td>\n",
       "      <td>37</td>\n",
       "      <td>6</td>\n",
       "      <td>0</td>\n",
       "      <td>0</td>\n",
       "      <td>0</td>\n",
       "      <td>...</td>\n",
       "      <td>0</td>\n",
       "      <td>0</td>\n",
       "      <td>1</td>\n",
       "      <td>3</td>\n",
       "      <td>0</td>\n",
       "      <td>0</td>\n",
       "      <td>17</td>\n",
       "      <td>30</td>\n",
       "      <td>4</td>\n",
       "      <td>0</td>\n",
       "    </tr>\n",
       "    <tr>\n",
       "      <th>1</th>\n",
       "      <td>8</td>\n",
       "      <td>0</td>\n",
       "      <td>1</td>\n",
       "      <td>3</td>\n",
       "      <td>36</td>\n",
       "      <td>0</td>\n",
       "      <td>0</td>\n",
       "      <td>0</td>\n",
       "      <td>0</td>\n",
       "      <td>0</td>\n",
       "      <td>...</td>\n",
       "      <td>0</td>\n",
       "      <td>0</td>\n",
       "      <td>3</td>\n",
       "      <td>0</td>\n",
       "      <td>1</td>\n",
       "      <td>5</td>\n",
       "      <td>1</td>\n",
       "      <td>0</td>\n",
       "      <td>0</td>\n",
       "      <td>10</td>\n",
       "    </tr>\n",
       "    <tr>\n",
       "      <th>2</th>\n",
       "      <td>5</td>\n",
       "      <td>0</td>\n",
       "      <td>3</td>\n",
       "      <td>0</td>\n",
       "      <td>0</td>\n",
       "      <td>0</td>\n",
       "      <td>0</td>\n",
       "      <td>0</td>\n",
       "      <td>0</td>\n",
       "      <td>0</td>\n",
       "      <td>...</td>\n",
       "      <td>0</td>\n",
       "      <td>0</td>\n",
       "      <td>0</td>\n",
       "      <td>0</td>\n",
       "      <td>23</td>\n",
       "      <td>0</td>\n",
       "      <td>11</td>\n",
       "      <td>3</td>\n",
       "      <td>0</td>\n",
       "      <td>0</td>\n",
       "    </tr>\n",
       "    <tr>\n",
       "      <th>3</th>\n",
       "      <td>4</td>\n",
       "      <td>0</td>\n",
       "      <td>77</td>\n",
       "      <td>0</td>\n",
       "      <td>0</td>\n",
       "      <td>13</td>\n",
       "      <td>0</td>\n",
       "      <td>0</td>\n",
       "      <td>0</td>\n",
       "      <td>0</td>\n",
       "      <td>...</td>\n",
       "      <td>0</td>\n",
       "      <td>5</td>\n",
       "      <td>0</td>\n",
       "      <td>0</td>\n",
       "      <td>0</td>\n",
       "      <td>2</td>\n",
       "      <td>4</td>\n",
       "      <td>0</td>\n",
       "      <td>0</td>\n",
       "      <td>0</td>\n",
       "    </tr>\n",
       "    <tr>\n",
       "      <th>4</th>\n",
       "      <td>2</td>\n",
       "      <td>1</td>\n",
       "      <td>43</td>\n",
       "      <td>0</td>\n",
       "      <td>2</td>\n",
       "      <td>44</td>\n",
       "      <td>1</td>\n",
       "      <td>0</td>\n",
       "      <td>0</td>\n",
       "      <td>0</td>\n",
       "      <td>...</td>\n",
       "      <td>0</td>\n",
       "      <td>0</td>\n",
       "      <td>0</td>\n",
       "      <td>0</td>\n",
       "      <td>0</td>\n",
       "      <td>0</td>\n",
       "      <td>0</td>\n",
       "      <td>13</td>\n",
       "      <td>0</td>\n",
       "      <td>0</td>\n",
       "    </tr>\n",
       "  </tbody>\n",
       "</table>\n",
       "<p>5 rows × 102 columns</p>\n",
       "</div>"
      ],
      "text/plain": [
       "   action  reward  x1  x2  x3  x4  x5  x6  x7  x8  ...  x91  x92  x93  x94  \\\n",
       "0       2       0   5   0   0  37   6   0   0   0  ...    0    0    1    3   \n",
       "1       8       0   1   3  36   0   0   0   0   0  ...    0    0    3    0   \n",
       "2       5       0   3   0   0   0   0   0   0   0  ...    0    0    0    0   \n",
       "3       4       0  77   0   0  13   0   0   0   0  ...    0    5    0    0   \n",
       "4       2       1  43   0   2  44   1   0   0   0  ...    0    0    0    0   \n",
       "\n",
       "   x95  x96  x97  x98  x99  x100  \n",
       "0    0    0   17   30    4     0  \n",
       "1    1    5    1    0    0    10  \n",
       "2   23    0   11    3    0     0  \n",
       "3    0    2    4    0    0     0  \n",
       "4    0    0    0   13    0     0  \n",
       "\n",
       "[5 rows x 102 columns]"
      ]
     },
     "execution_count": 4,
     "metadata": {},
     "output_type": "execute_result"
    }
   ],
   "source": [
    "data.head()"
   ]
  },
  {
   "cell_type": "markdown",
   "metadata": {},
   "source": [
    "## Summarise data"
   ]
  },
  {
   "cell_type": "code",
   "execution_count": 5,
   "metadata": {},
   "outputs": [
    {
     "data": {
      "text/plain": [
       "1     0.1020\n",
       "2     0.0982\n",
       "3     0.0974\n",
       "4     0.1047\n",
       "5     0.1005\n",
       "6     0.0963\n",
       "7     0.1035\n",
       "8     0.0999\n",
       "9     0.0988\n",
       "10    0.0987\n",
       "Name: action, dtype: float64"
      ]
     },
     "execution_count": 5,
     "metadata": {},
     "output_type": "execute_result"
    }
   ],
   "source": [
    "data['action'].value_counts(normalize=True).sort_index()"
   ]
  },
  {
   "cell_type": "code",
   "execution_count": 6,
   "metadata": {},
   "outputs": [
    {
     "data": {
      "text/plain": [
       "0    0.8961\n",
       "1    0.1039\n",
       "Name: reward, dtype: float64"
      ]
     },
     "execution_count": 6,
     "metadata": {},
     "output_type": "execute_result"
    }
   ],
   "source": [
    "data['reward'].value_counts(normalize=True)"
   ]
  },
  {
   "cell_type": "markdown",
   "metadata": {},
   "source": [
    "### Actual conversion rate"
   ]
  },
  {
   "cell_type": "code",
   "execution_count": 7,
   "metadata": {},
   "outputs": [
    {
     "data": {
      "text/plain": [
       "0.1039"
      ]
     },
     "execution_count": 7,
     "metadata": {},
     "output_type": "execute_result"
    }
   ],
   "source": [
    "data['reward'].sum() /  len(data)"
   ]
  },
  {
   "cell_type": "markdown",
   "metadata": {},
   "source": [
    "### Action propensities"
   ]
  },
  {
   "cell_type": "code",
   "execution_count": 8,
   "metadata": {},
   "outputs": [],
   "source": [
    "propensities = data['action'].value_counts(normalize=True).sort_index()"
   ]
  },
  {
   "cell_type": "markdown",
   "metadata": {},
   "source": [
    "### Action pool"
   ]
  },
  {
   "cell_type": "code",
   "execution_count": 9,
   "metadata": {},
   "outputs": [],
   "source": [
    "arms = sorted(data['action'].unique())"
   ]
  },
  {
   "cell_type": "markdown",
   "metadata": {},
   "source": [
    "## Beta distributions per action for original policy"
   ]
  },
  {
   "cell_type": "code",
   "execution_count": 10,
   "metadata": {},
   "outputs": [],
   "source": [
    "xrange = np.linspace(0, 0.3, 1001)\n",
    "counts = data.groupby('action').agg({'reward': ['count', 'sum']})"
   ]
  },
  {
   "cell_type": "code",
   "execution_count": 11,
   "metadata": {},
   "outputs": [],
   "source": [
    "beta_dist_by_action = pd.concat([get_beta_dist(a) for a in arms])"
   ]
  },
  {
   "cell_type": "code",
   "execution_count": 12,
   "metadata": {},
   "outputs": [
    {
     "data": {
      "text/plain": [
       "[None, None, None, None, None, None, None, None, None, None]"
      ]
     },
     "execution_count": 12,
     "metadata": {},
     "output_type": "execute_result"
    },
    {
     "data": {
      "image/png": "[encoded data removed]",
      "text/plain": [
       "<Figure size 432x288 with 1 Axes>"
      ]
     },
     "metadata": {
      "needs_background": "light"
     },
     "output_type": "display_data"
    }
   ],
   "source": [
    "[plot_beta_dist_by_action(a) for a in arms]"
   ]
  },
  {
   "cell_type": "markdown",
   "metadata": {},
   "source": [
    "## Define a proposed policy\n",
    "### Choose randomly from actions 1-5 only"
   ]
  },
  {
   "cell_type": "code",
   "execution_count": 13,
   "metadata": {},
   "outputs": [
    {
     "data": {
      "text/plain": [
       "0       5\n",
       "1       3\n",
       "2       2\n",
       "3       5\n",
       "4       4\n",
       "       ..\n",
       "9995    4\n",
       "9996    2\n",
       "9997    3\n",
       "9998    1\n",
       "9999    1\n",
       "Name: proposed_action, Length: 10000, dtype: int64"
      ]
     },
     "execution_count": 13,
     "metadata": {},
     "output_type": "execute_result"
    }
   ],
   "source": [
    "np.random.seed(666)\n",
    "proposed_policy = pd.Series(np.random.randint(1, 6, size=len(data)))\n",
    "proposed_policy.rename('proposed_action', inplace=True)"
   ]
  },
  {
   "cell_type": "markdown",
   "metadata": {},
   "source": [
    "## Fit a model to each action"
   ]
  },
  {
   "cell_type": "code",
   "execution_count": 14,
   "metadata": {},
   "outputs": [],
   "source": [
    "models_list = [train_model_by_action(a) for a in arms]"
   ]
  },
  {
   "cell_type": "markdown",
   "metadata": {},
   "source": [
    "## Predict reward for every action"
   ]
  },
  {
   "cell_type": "code",
   "execution_count": 15,
   "metadata": {},
   "outputs": [],
   "source": [
    "pred_action_reward_list = [pd.Series(models_list[i].predict_proba(data[xnames])[:,1]) for i in np.arange(0, 10)]\n",
    "pred_action_reward = pd.concat(pred_action_reward_list, axis=1)\n",
    "pred_action_reward.columns = ['r' + str(i) for i in list(np.arange(1, 11))]"
   ]
  },
  {
   "cell_type": "markdown",
   "metadata": {},
   "source": [
    "## Predict reward for actual action"
   ]
  },
  {
   "cell_type": "code",
   "execution_count": 16,
   "metadata": {},
   "outputs": [],
   "source": [
    "pred_actual_reward = pd.concat([pred_reward_actual_action(a) for a in arms]).sort_index()"
   ]
  },
  {
   "cell_type": "markdown",
   "metadata": {},
   "source": [
    "## Direct method"
   ]
  },
  {
   "cell_type": "code",
   "execution_count": 17,
   "metadata": {},
   "outputs": [
    {
     "data": {
      "text/plain": [
       "[None, None, None, None, None, None, None, None, None, None]"
      ]
     },
     "execution_count": 17,
     "metadata": {},
     "output_type": "execute_result"
    }
   ],
   "source": [
    "dm_rewards = pd.concat([proposed_policy, pred_action_reward], axis=1)\n",
    "\n",
    "dm_rewards['pred_reward_for_proposed_action'] = np.nan\n",
    "[get_pred_reward_for_proposed_action(a) for a in arms]"
   ]
  },
  {
   "cell_type": "markdown",
   "metadata": {},
   "source": [
    "### DM conversion rate"
   ]
  },
  {
   "cell_type": "code",
   "execution_count": 18,
   "metadata": {},
   "outputs": [
    {
     "data": {
      "text/plain": [
       "0.1"
      ]
     },
     "execution_count": 18,
     "metadata": {},
     "output_type": "execute_result"
    }
   ],
   "source": [
    "round(dm_rewards['pred_reward_for_proposed_action'].sum() / len(data), 3)"
   ]
  },
  {
   "cell_type": "markdown",
   "metadata": {},
   "source": [
    "## Inverse propensity scores"
   ]
  },
  {
   "cell_type": "code",
   "execution_count": 19,
   "metadata": {},
   "outputs": [],
   "source": [
    "ips_rewards = pd.concat([data[['action', 'reward']], proposed_policy], axis=1)\n",
    "ips_rewards.columns = ['actual_action', 'actual_reward', 'proposed_action']\n",
    "\n",
    "ips_rewards['propensity'] = np.nan\n",
    "[get_propensities(a) for a in arms]\n",
    "\n",
    "ips_rewards['weighted_reward'] = 0\n",
    "ips_rewards.loc[ips_rewards.actual_action == ips_rewards.proposed_action, 'weighted_reward'] = ips_rewards['actual_reward'] / ips_rewards['propensity']"
   ]
  },
  {
   "cell_type": "markdown",
   "metadata": {},
   "source": [
    "### IPS conversion rate"
   ]
  },
  {
   "cell_type": "code",
   "execution_count": 20,
   "metadata": {},
   "outputs": [
    {
     "data": {
      "text/plain": [
       "0.105"
      ]
     },
     "execution_count": 20,
     "metadata": {},
     "output_type": "execute_result"
    }
   ],
   "source": [
    "round(ips_rewards['weighted_reward'].sum() / len(data), 3)"
   ]
  },
  {
   "cell_type": "markdown",
   "metadata": {},
   "source": [
    "## Doubly robust"
   ]
  },
  {
   "cell_type": "code",
   "execution_count": 21,
   "metadata": {},
   "outputs": [],
   "source": [
    "dr_rewards = pd.concat([dm_rewards[['proposed_action', 'pred_reward_for_proposed_action']], \n",
    "                        ips_rewards[['actual_action', 'actual_reward', 'propensity']],\n",
    "                        pred_actual_reward['pred_reward_for_actual_action']], axis=1)\n",
    "\n",
    "dr_rewards['reward_diff'] = dr_rewards['actual_reward'] - dr_rewards['pred_reward_for_actual_action']\n",
    "\n",
    "dr_rewards['weighted_reward_diff'] = 0\n",
    "dr_rewards.loc[dr_rewards.actual_action == dr_rewards.proposed_action, 'weighted_reward_diff'] = dr_rewards['reward_diff'] / dr_rewards['propensity']\n",
    "\n",
    "dr_rewards['dr_result'] = dr_rewards['pred_reward_for_proposed_action'] + dr_rewards['weighted_reward_diff']"
   ]
  },
  {
   "cell_type": "markdown",
   "metadata": {},
   "source": [
    "### DR conversion rate"
   ]
  },
  {
   "cell_type": "code",
   "execution_count": 22,
   "metadata": {},
   "outputs": [
    {
     "data": {
      "text/plain": [
       "0.1"
      ]
     },
     "execution_count": 22,
     "metadata": {},
     "output_type": "execute_result"
    }
   ],
   "source": [
    "round(dr_rewards['dr_result'].sum() / len(data), 3)"
   ]
  },
  {
   "cell_type": "markdown",
   "metadata": {},
   "source": [
    "## Compare conversion rates of actual and proposed policies\n",
    "DM/IPS/DR results are conversion rate estimates of the proposed policy. These estimates can be compared to the conversion rate of the actual policy."
   ]
  },
  {
   "cell_type": "code",
   "execution_count": 23,
   "metadata": {},
   "outputs": [],
   "source": [
    "beta_actual = get_policy_beta('Actual', num_conv = data['reward'].sum())\n",
    "\n",
    "beta_proposed_dm = get_policy_beta('Proposed (dm)', num_conv = dm_rewards['pred_reward_for_proposed_action'].sum())\n",
    "\n",
    "beta_proposed_ips = get_policy_beta('Proposed (ips)', num_conv = ips_rewards['weighted_reward'].sum())\n",
    "\n",
    "beta_proposed_dr = get_policy_beta('Proposed (dr)', num_conv = dr_rewards['dr_result'].sum())\n",
    "\n",
    "all_betas = pd.concat([beta_actual, beta_proposed_dm, beta_proposed_ips, beta_proposed_dr])"
   ]
  },
  {
   "cell_type": "code",
   "execution_count": 24,
   "metadata": {},
   "outputs": [
    {
     "data": {
      "text/plain": [
       "[None, None]"
      ]
     },
     "execution_count": 24,
     "metadata": {},
     "output_type": "execute_result"
    },
    {
     "data": {
      "image/png": "[encoded data removed]",
      "text/plain": [
       "<Figure size 432x288 with 1 Axes>"
      ]
     },
     "metadata": {
      "needs_background": "light"
     },
     "output_type": "display_data"
    }
   ],
   "source": [
    "[plot_beta_dist_by_policy(p) for p in ['Actual', 'Proposed (dr)']]"
   ]
  }
 ],
 "metadata": {
  "kernelspec": {
   "display_name": "Python 3",
   "language": "python",
   "name": "python3"
  },
  "language_info": {
   "codemirror_mode": {
    "name": "ipython",
    "version": 3
   },
   "file_extension": ".py",
   "mimetype": "text/x-python",
   "name": "python",
   "nbconvert_exporter": "python",
   "pygments_lexer": "ipython3",
   "version": "3.7.4"
  }
 },
 "nbformat": 4,
 "nbformat_minor": 4
}
